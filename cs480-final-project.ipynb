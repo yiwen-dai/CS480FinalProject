{
 "cells": [
  {
   "cell_type": "markdown",
   "id": "05fb082b",
   "metadata": {
    "papermill": {
     "duration": 0.007115,
     "end_time": "2023-04-17T15:38:36.401685",
     "exception": false,
     "start_time": "2023-04-17T15:38:36.394570",
     "status": "completed"
    },
    "tags": []
   },
   "source": [
    "# Instructions\n",
    "\n",
    "The following code is expected to be run in the Kaggle environment, with train.csv and test.csv located at '/kaggle/input/uw-cs480-winter23/', and the noisy images at '/kaggle/input/uw-cs480-winter23/noisy-images/noisy-images'. \n",
    "\n",
    "To run the code in the Kaggle environment, simply click \"Run All\". This will start the process of importing (and potentially downloading) all needed libraries/packages, data formatting/reading, the model initializations and training. During this process, there will be information produced in the logs for sample data as well as for the purpose of updating training progress. You can disregard these logs as they are solely informative.\n",
    "\n",
    "At the end, the code will then produce a 'submissions.csv' file, which contains the predictions made for the items in 'test.csv' in the format {'id', 'category'}. \n"
   ]
  },
  {
   "cell_type": "markdown",
   "id": "8bb731e2",
   "metadata": {
    "papermill": {
     "duration": 0.006185,
     "end_time": "2023-04-17T15:38:36.414286",
     "exception": false,
     "start_time": "2023-04-17T15:38:36.408101",
     "status": "completed"
    },
    "tags": []
   },
   "source": [
    "# Import Libraries"
   ]
  },
  {
   "cell_type": "code",
   "execution_count": 1,
   "id": "d51bec19",
   "metadata": {
    "execution": {
     "iopub.execute_input": "2023-04-17T15:38:36.428985Z",
     "iopub.status.busy": "2023-04-17T15:38:36.428588Z",
     "iopub.status.idle": "2023-04-17T15:38:41.588578Z",
     "shell.execute_reply": "2023-04-17T15:38:41.587528Z"
    },
    "papermill": {
     "duration": 5.170849,
     "end_time": "2023-04-17T15:38:41.591717",
     "exception": false,
     "start_time": "2023-04-17T15:38:36.420868",
     "status": "completed"
    },
    "tags": []
   },
   "outputs": [],
   "source": [
    "import os\n",
    "from os import walk\n",
    "\n",
    "import torch\n",
    "import torchvision\n",
    "import torchvision.datasets as dset\n",
    "import torchvision.transforms as transforms\n",
    "import torch.nn.functional as F\n",
    "\n",
    "from torch import nn\n",
    "from torchvision.transforms import ToTensor\n",
    "from torchvision.io import read_image, ImageReadMode\n",
    "from torch.utils.data import Dataset, DataLoader\n",
    "from torch.autograd import Variable\n",
    "from torchtext.data.utils import get_tokenizer\n",
    "from torch.utils.data.dataset import random_split\n",
    "from torchtext.vocab import build_vocab_from_iterator\n",
    "\n",
    "from sklearn.preprocessing import LabelEncoder\n",
    "from skimage import io, transform\n",
    "import scipy.ndimage as ndi\n",
    "from PIL import Image\n",
    "\n",
    "import numpy as np\n",
    "import pandas as pd\n",
    "from tqdm import tqdm\n",
    "\n",
    "import matplotlib.pyplot as plt\n",
    "\n",
    "import nltk\n",
    "from nltk.tokenize import word_tokenize\n",
    "import re"
   ]
  },
  {
   "cell_type": "code",
   "execution_count": 2,
   "id": "4ed296b5",
   "metadata": {
    "execution": {
     "iopub.execute_input": "2023-04-17T15:38:41.607141Z",
     "iopub.status.busy": "2023-04-17T15:38:41.606695Z",
     "iopub.status.idle": "2023-04-17T15:38:41.724346Z",
     "shell.execute_reply": "2023-04-17T15:38:41.723086Z"
    },
    "papermill": {
     "duration": 0.128693,
     "end_time": "2023-04-17T15:38:41.727249",
     "exception": false,
     "start_time": "2023-04-17T15:38:41.598556",
     "status": "completed"
    },
    "tags": []
   },
   "outputs": [
    {
     "name": "stdout",
     "output_type": "stream",
     "text": [
      "Using cuda device\n"
     ]
    }
   ],
   "source": [
    "# Get cpu or gpu device for training.\n",
    "device = \"cuda\" if torch.cuda.is_available() else \"mps\" if torch.backends.mps.is_available() else \"cpu\"\n",
    "print(f\"Using {device} device\")"
   ]
  },
  {
   "cell_type": "markdown",
   "id": "6fcc14d9",
   "metadata": {
    "papermill": {
     "duration": 0.006187,
     "end_time": "2023-04-17T15:38:41.739785",
     "exception": false,
     "start_time": "2023-04-17T15:38:41.733598",
     "status": "completed"
    },
    "tags": []
   },
   "source": [
    "# Import Data"
   ]
  },
  {
   "cell_type": "code",
   "execution_count": 3,
   "id": "476675ca",
   "metadata": {
    "execution": {
     "iopub.execute_input": "2023-04-17T15:38:41.753657Z",
     "iopub.status.busy": "2023-04-17T15:38:41.753317Z",
     "iopub.status.idle": "2023-04-17T15:38:41.912597Z",
     "shell.execute_reply": "2023-04-17T15:38:41.911467Z"
    },
    "papermill": {
     "duration": 0.169672,
     "end_time": "2023-04-17T15:38:41.915821",
     "exception": false,
     "start_time": "2023-04-17T15:38:41.746149",
     "status": "completed"
    },
    "tags": []
   },
   "outputs": [],
   "source": [
    "path = '/kaggle/input/uw-cs480-winter23/'\n",
    "img_path = path + 'noisy-images/noisy-images/'\n",
    "\n",
    "# Dataframes\n",
    "train_df = pd.read_csv(path + 'train.csv')\n",
    "test_df = pd.read_csv(path + 'test.csv')"
   ]
  },
  {
   "cell_type": "code",
   "execution_count": 4,
   "id": "5953f7c0",
   "metadata": {
    "execution": {
     "iopub.execute_input": "2023-04-17T15:38:41.931880Z",
     "iopub.status.busy": "2023-04-17T15:38:41.931518Z",
     "iopub.status.idle": "2023-04-17T15:38:42.005484Z",
     "shell.execute_reply": "2023-04-17T15:38:42.004352Z"
    },
    "papermill": {
     "duration": 0.085141,
     "end_time": "2023-04-17T15:38:42.007731",
     "exception": false,
     "start_time": "2023-04-17T15:38:41.922590",
     "status": "completed"
    },
    "tags": []
   },
   "outputs": [
    {
     "data": {
      "text/html": [
       "<div>\n",
       "<style scoped>\n",
       "    .dataframe tbody tr th:only-of-type {\n",
       "        vertical-align: middle;\n",
       "    }\n",
       "\n",
       "    .dataframe tbody tr th {\n",
       "        vertical-align: top;\n",
       "    }\n",
       "\n",
       "    .dataframe thead th {\n",
       "        text-align: right;\n",
       "    }\n",
       "</style>\n",
       "<table border=\"1\" class=\"dataframe\">\n",
       "  <thead>\n",
       "    <tr style=\"text-align: right;\">\n",
       "      <th></th>\n",
       "      <th>id</th>\n",
       "      <th>category</th>\n",
       "      <th>gender</th>\n",
       "      <th>baseColour</th>\n",
       "      <th>season</th>\n",
       "      <th>usage</th>\n",
       "      <th>noisyTextDescription</th>\n",
       "      <th>img_path</th>\n",
       "    </tr>\n",
       "  </thead>\n",
       "  <tbody>\n",
       "    <tr>\n",
       "      <th>0</th>\n",
       "      <td>51668</td>\n",
       "      <td>Sandal</td>\n",
       "      <td>Men</td>\n",
       "      <td>Tan</td>\n",
       "      <td>Summer</td>\n",
       "      <td>Casual</td>\n",
       "      <td>Clarks Men ComfortSoft Wild Sweat Sandals</td>\n",
       "      <td>51668.jpg</td>\n",
       "    </tr>\n",
       "    <tr>\n",
       "      <th>1</th>\n",
       "      <td>40012</td>\n",
       "      <td>Bottomwear</td>\n",
       "      <td>Men</td>\n",
       "      <td>Blue</td>\n",
       "      <td>Summer</td>\n",
       "      <td>Casual</td>\n",
       "      <td>John Players Flora Blue Jeans</td>\n",
       "      <td>40012.jpg</td>\n",
       "    </tr>\n",
       "    <tr>\n",
       "      <th>2</th>\n",
       "      <td>56877</td>\n",
       "      <td>Bottomwear</td>\n",
       "      <td>Women</td>\n",
       "      <td>White</td>\n",
       "      <td>Summer</td>\n",
       "      <td>Casual</td>\n",
       "      <td>Scullers For Mud Women White Trousers</td>\n",
       "      <td>56877.jpg</td>\n",
       "    </tr>\n",
       "    <tr>\n",
       "      <th>3</th>\n",
       "      <td>42598</td>\n",
       "      <td>Shoes</td>\n",
       "      <td>Men</td>\n",
       "      <td>Black</td>\n",
       "      <td>Summer</td>\n",
       "      <td>Sports</td>\n",
       "      <td>Puma Salvation Silly Enigma Black Sports Deerie</td>\n",
       "      <td>42598.jpg</td>\n",
       "    </tr>\n",
       "    <tr>\n",
       "      <th>4</th>\n",
       "      <td>34629</td>\n",
       "      <td>Topwear</td>\n",
       "      <td>Women</td>\n",
       "      <td>Beige</td>\n",
       "      <td>Summer</td>\n",
       "      <td>Casual</td>\n",
       "      <td>Arrow Woman Beige Top</td>\n",
       "      <td>34629.jpg</td>\n",
       "    </tr>\n",
       "  </tbody>\n",
       "</table>\n",
       "</div>"
      ],
      "text/plain": [
       "      id    category gender baseColour  season   usage  \\\n",
       "0  51668      Sandal    Men        Tan  Summer  Casual   \n",
       "1  40012  Bottomwear    Men       Blue  Summer  Casual   \n",
       "2  56877  Bottomwear  Women      White  Summer  Casual   \n",
       "3  42598       Shoes    Men      Black  Summer  Sports   \n",
       "4  34629     Topwear  Women      Beige  Summer  Casual   \n",
       "\n",
       "                              noisyTextDescription   img_path  \n",
       "0        Clarks Men ComfortSoft Wild Sweat Sandals  51668.jpg  \n",
       "1                    John Players Flora Blue Jeans  40012.jpg  \n",
       "2            Scullers For Mud Women White Trousers  56877.jpg  \n",
       "3  Puma Salvation Silly Enigma Black Sports Deerie  42598.jpg  \n",
       "4                            Arrow Woman Beige Top  34629.jpg  "
      ]
     },
     "execution_count": 4,
     "metadata": {},
     "output_type": "execute_result"
    }
   ],
   "source": [
    "# Get image file name\n",
    "train_df['img_path'] = train_df['id'].astype(str) + '.jpg'\n",
    "test_df['img_path'] = test_df['id'].astype(str) + '.jpg'\n",
    "train_df.head()"
   ]
  },
  {
   "cell_type": "code",
   "execution_count": 5,
   "id": "db450bdd",
   "metadata": {
    "execution": {
     "iopub.execute_input": "2023-04-17T15:38:42.023364Z",
     "iopub.status.busy": "2023-04-17T15:38:42.022397Z",
     "iopub.status.idle": "2023-04-17T15:38:42.089236Z",
     "shell.execute_reply": "2023-04-17T15:38:42.088319Z"
    },
    "papermill": {
     "duration": 0.076535,
     "end_time": "2023-04-17T15:38:42.091296",
     "exception": false,
     "start_time": "2023-04-17T15:38:42.014761",
     "status": "completed"
    },
    "tags": []
   },
   "outputs": [
    {
     "data": {
      "text/html": [
       "<div>\n",
       "<style scoped>\n",
       "    .dataframe tbody tr th:only-of-type {\n",
       "        vertical-align: middle;\n",
       "    }\n",
       "\n",
       "    .dataframe tbody tr th {\n",
       "        vertical-align: top;\n",
       "    }\n",
       "\n",
       "    .dataframe thead th {\n",
       "        text-align: right;\n",
       "    }\n",
       "</style>\n",
       "<table border=\"1\" class=\"dataframe\">\n",
       "  <thead>\n",
       "    <tr style=\"text-align: right;\">\n",
       "      <th></th>\n",
       "      <th>id</th>\n",
       "      <th>category</th>\n",
       "      <th>gender</th>\n",
       "      <th>baseColour</th>\n",
       "      <th>season</th>\n",
       "      <th>usage</th>\n",
       "      <th>noisyTextDescription</th>\n",
       "      <th>img_path</th>\n",
       "      <th>gender_encoded</th>\n",
       "      <th>colour_encoded</th>\n",
       "      <th>season_encoded</th>\n",
       "      <th>usage_encoded</th>\n",
       "      <th>category_encoded</th>\n",
       "    </tr>\n",
       "  </thead>\n",
       "  <tbody>\n",
       "    <tr>\n",
       "      <th>0</th>\n",
       "      <td>51668</td>\n",
       "      <td>Sandal</td>\n",
       "      <td>Men</td>\n",
       "      <td>Tan</td>\n",
       "      <td>Summer</td>\n",
       "      <td>Casual</td>\n",
       "      <td>Clarks Men ComfortSoft Wild Sweat Sandals</td>\n",
       "      <td>51668.jpg</td>\n",
       "      <td>2</td>\n",
       "      <td>40</td>\n",
       "      <td>2</td>\n",
       "      <td>0</td>\n",
       "      <td>18</td>\n",
       "    </tr>\n",
       "    <tr>\n",
       "      <th>1</th>\n",
       "      <td>40012</td>\n",
       "      <td>Bottomwear</td>\n",
       "      <td>Men</td>\n",
       "      <td>Blue</td>\n",
       "      <td>Summer</td>\n",
       "      <td>Casual</td>\n",
       "      <td>John Players Flora Blue Jeans</td>\n",
       "      <td>40012.jpg</td>\n",
       "      <td>2</td>\n",
       "      <td>2</td>\n",
       "      <td>2</td>\n",
       "      <td>0</td>\n",
       "      <td>4</td>\n",
       "    </tr>\n",
       "    <tr>\n",
       "      <th>2</th>\n",
       "      <td>56877</td>\n",
       "      <td>Bottomwear</td>\n",
       "      <td>Women</td>\n",
       "      <td>White</td>\n",
       "      <td>Summer</td>\n",
       "      <td>Casual</td>\n",
       "      <td>Scullers For Mud Women White Trousers</td>\n",
       "      <td>56877.jpg</td>\n",
       "      <td>4</td>\n",
       "      <td>44</td>\n",
       "      <td>2</td>\n",
       "      <td>0</td>\n",
       "      <td>4</td>\n",
       "    </tr>\n",
       "    <tr>\n",
       "      <th>3</th>\n",
       "      <td>42598</td>\n",
       "      <td>Shoes</td>\n",
       "      <td>Men</td>\n",
       "      <td>Black</td>\n",
       "      <td>Summer</td>\n",
       "      <td>Sports</td>\n",
       "      <td>Puma Salvation Silly Enigma Black Sports Deerie</td>\n",
       "      <td>42598.jpg</td>\n",
       "      <td>2</td>\n",
       "      <td>1</td>\n",
       "      <td>2</td>\n",
       "      <td>5</td>\n",
       "      <td>21</td>\n",
       "    </tr>\n",
       "    <tr>\n",
       "      <th>4</th>\n",
       "      <td>34629</td>\n",
       "      <td>Topwear</td>\n",
       "      <td>Women</td>\n",
       "      <td>Beige</td>\n",
       "      <td>Summer</td>\n",
       "      <td>Casual</td>\n",
       "      <td>Arrow Woman Beige Top</td>\n",
       "      <td>34629.jpg</td>\n",
       "      <td>4</td>\n",
       "      <td>0</td>\n",
       "      <td>2</td>\n",
       "      <td>0</td>\n",
       "      <td>24</td>\n",
       "    </tr>\n",
       "  </tbody>\n",
       "</table>\n",
       "</div>"
      ],
      "text/plain": [
       "      id    category gender baseColour  season   usage  \\\n",
       "0  51668      Sandal    Men        Tan  Summer  Casual   \n",
       "1  40012  Bottomwear    Men       Blue  Summer  Casual   \n",
       "2  56877  Bottomwear  Women      White  Summer  Casual   \n",
       "3  42598       Shoes    Men      Black  Summer  Sports   \n",
       "4  34629     Topwear  Women      Beige  Summer  Casual   \n",
       "\n",
       "                              noisyTextDescription   img_path  gender_encoded  \\\n",
       "0        Clarks Men ComfortSoft Wild Sweat Sandals  51668.jpg               2   \n",
       "1                    John Players Flora Blue Jeans  40012.jpg               2   \n",
       "2            Scullers For Mud Women White Trousers  56877.jpg               4   \n",
       "3  Puma Salvation Silly Enigma Black Sports Deerie  42598.jpg               2   \n",
       "4                            Arrow Woman Beige Top  34629.jpg               4   \n",
       "\n",
       "   colour_encoded  season_encoded  usage_encoded  category_encoded  \n",
       "0              40               2              0                18  \n",
       "1               2               2              0                 4  \n",
       "2              44               2              0                 4  \n",
       "3               1               2              5                21  \n",
       "4               0               2              0                24  "
      ]
     },
     "execution_count": 5,
     "metadata": {},
     "output_type": "execute_result"
    }
   ],
   "source": [
    "# Encode gender, baseColour, season, usage, and category\n",
    "#    and keep map for each: {encoded_label: actual_label}\n",
    "le = LabelEncoder()\n",
    "gender_encoded = le.fit_transform(train_df['gender'])\n",
    "train_df['gender_encoded'] = gender_encoded\n",
    "gender_map = {i: l for i, l in enumerate(le.classes_)}\n",
    "gender_encoded = le.fit_transform(test_df['gender'])\n",
    "test_df['gender_encoded'] = gender_encoded\n",
    "\n",
    "colour_encoded = le.fit_transform(train_df['baseColour'])\n",
    "train_df['colour_encoded'] = colour_encoded\n",
    "colour_map = {i: l for i, l in enumerate(le.classes_)}\n",
    "colour_encoded = le.fit_transform(test_df['baseColour'])\n",
    "test_df['colour_encoded'] = colour_encoded\n",
    "\n",
    "season_encoded = le.fit_transform(train_df['season'])\n",
    "train_df['season_encoded'] = season_encoded\n",
    "season_map = {i: l for i, l in enumerate(le.classes_)}\n",
    "season_encoded = le.fit_transform(test_df['season'])\n",
    "test_df['season_encoded'] = season_encoded\n",
    "\n",
    "usage_encoded = le.fit_transform(train_df['usage'])\n",
    "train_df['usage_encoded'] = usage_encoded\n",
    "usage_map = {i: l for i, l in enumerate(le.classes_)} \n",
    "usage_encoded = le.fit_transform(test_df['usage'])\n",
    "test_df['usage_encoded'] = usage_encoded\n",
    "\n",
    "category_encoded = le.fit_transform(train_df['category'])\n",
    "train_df['category_encoded'] = category_encoded\n",
    "category_map = {i: l for i, l in enumerate(le.classes_)}\n",
    "\n",
    "train_df.head()\n",
    "# test_df.head()"
   ]
  },
  {
   "cell_type": "code",
   "execution_count": 6,
   "id": "9261c2fb",
   "metadata": {
    "execution": {
     "iopub.execute_input": "2023-04-17T15:38:42.106240Z",
     "iopub.status.busy": "2023-04-17T15:38:42.105938Z",
     "iopub.status.idle": "2023-04-17T15:38:42.115894Z",
     "shell.execute_reply": "2023-04-17T15:38:42.114188Z"
    },
    "papermill": {
     "duration": 0.019864,
     "end_time": "2023-04-17T15:38:42.118183",
     "exception": false,
     "start_time": "2023-04-17T15:38:42.098319",
     "status": "completed"
    },
    "tags": []
   },
   "outputs": [],
   "source": [
    "# Custom Dataset to read in dataset\n",
    "class EcommerceDataset(Dataset):\n",
    "    def __init__(self, data_frame, root_dir, transform=None):\n",
    "        self.data_frame = data_frame\n",
    "        self.root_dir = root_dir\n",
    "        self.transform = transform \n",
    "    \n",
    "    def __len__(self):\n",
    "        # Return the length of the dataset\n",
    "        return len(self.data_frame)\n",
    "    \n",
    "    def __getitem__(self, idx):\n",
    "        if torch.is_tensor(idx):\n",
    "            idx = idx.tolist()\n",
    "        \n",
    "        # catgorical data\n",
    "        data = self.data_frame.loc[idx, 'gender_encoded':'usage_encoded'].values.astype('int64')\n",
    "        data=torch.from_numpy(data)\n",
    "        \n",
    "        # image\n",
    "        img_path = os.path.join(self.root_dir, self.data_frame.loc[idx, 'img_path'])\n",
    "        image = Image.open(img_path)\n",
    "        image = (np.array(image))\n",
    "        r = image[:,:,0].flatten()\n",
    "        g = image[:,:,1].flatten()\n",
    "        b = image[:,:,2].flatten()\n",
    "        image = ndi.gaussian_filter(image, sigma=1.25)  # gaussian filter to reduce noise\n",
    "        if self.transform:\n",
    "            image = self.transform(image)\n",
    "        \n",
    "        # text\n",
    "        text = self.data_frame.loc[idx, 'noisyTextDescription']\n",
    "        \n",
    "        # label\n",
    "        category = self.data_frame.iloc[idx, -1]\n",
    "    \n",
    "        return data, image, text, category"
   ]
  },
  {
   "cell_type": "code",
   "execution_count": 7,
   "id": "b8aa8487",
   "metadata": {
    "execution": {
     "iopub.execute_input": "2023-04-17T15:38:42.134375Z",
     "iopub.status.busy": "2023-04-17T15:38:42.132650Z",
     "iopub.status.idle": "2023-04-17T15:38:42.140395Z",
     "shell.execute_reply": "2023-04-17T15:38:42.139497Z"
    },
    "papermill": {
     "duration": 0.017352,
     "end_time": "2023-04-17T15:38:42.142476",
     "exception": false,
     "start_time": "2023-04-17T15:38:42.125124",
     "status": "completed"
    },
    "tags": []
   },
   "outputs": [],
   "source": [
    "transform = transforms.Compose(\n",
    "    [transforms.ToTensor(),\n",
    "     transforms.Normalize((0.4, 0.4, 0.4), (0.4, 0.4, 0.4))])\n",
    "\n",
    "# Training set\n",
    "train_set = EcommerceDataset(\n",
    "    data_frame=train_df,\n",
    "    root_dir=img_path,\n",
    "    transform=transform)\n",
    "train_loader = DataLoader(train_set, batch_size=64)\n",
    "\n",
    "# Test set\n",
    "test_set = EcommerceDataset(\n",
    "    data_frame=test_df,\n",
    "    root_dir=img_path,\n",
    "    transform=transform)\n",
    "test_loader = DataLoader(test_set, batch_size=1)"
   ]
  },
  {
   "cell_type": "code",
   "execution_count": 8,
   "id": "be48bfd8",
   "metadata": {
    "execution": {
     "iopub.execute_input": "2023-04-17T15:38:42.157361Z",
     "iopub.status.busy": "2023-04-17T15:38:42.157088Z",
     "iopub.status.idle": "2023-04-17T15:38:42.677650Z",
     "shell.execute_reply": "2023-04-17T15:38:42.676625Z"
    },
    "papermill": {
     "duration": 0.530404,
     "end_time": "2023-04-17T15:38:42.679840",
     "exception": false,
     "start_time": "2023-04-17T15:38:42.149436",
     "status": "completed"
    },
    "tags": []
   },
   "outputs": [
    {
     "name": "stdout",
     "output_type": "stream",
     "text": [
      "United flops of Benetton Men Solid Grey Trousers\n",
      "0\n",
      "tensor([ 2, 13,  0,  0])\n"
     ]
    },
    {
     "data": {
      "image/png": "[encoded data removed]",
      "text/plain": [
       "<Figure size 640x480 with 1 Axes>"
      ]
     },
     "metadata": {},
     "output_type": "display_data"
    }
   ],
   "source": [
    "# Sample iteration\n",
    "data, images, texts, labels = next(iter(test_loader))\n",
    "plt.imshow(images[0].numpy().transpose((1,2,0)))\n",
    "img = images[0]\n",
    "print(texts[0])\n",
    "print(labels[0].item())\n",
    "print(data[0])"
   ]
  },
  {
   "cell_type": "markdown",
   "id": "e85753a4",
   "metadata": {
    "execution": {
     "iopub.status.busy": "2023-04-10T17:34:23.604652Z",
     "iopub.status.idle": "2023-04-10T17:34:23.606207Z",
     "shell.execute_reply": "2023-04-10T17:34:23.605851Z",
     "shell.execute_reply.started": "2023-04-10T17:34:23.605807Z"
    },
    "papermill": {
     "duration": 0.006929,
     "end_time": "2023-04-17T15:38:42.694352",
     "exception": false,
     "start_time": "2023-04-17T15:38:42.687423",
     "status": "completed"
    },
    "tags": []
   },
   "source": [
    "# Models"
   ]
  },
  {
   "cell_type": "code",
   "execution_count": 9,
   "id": "d30d3558",
   "metadata": {
    "execution": {
     "iopub.execute_input": "2023-04-17T15:38:42.711244Z",
     "iopub.status.busy": "2023-04-17T15:38:42.709445Z",
     "iopub.status.idle": "2023-04-17T15:38:46.195175Z",
     "shell.execute_reply": "2023-04-17T15:38:46.194111Z"
    },
    "papermill": {
     "duration": 3.496508,
     "end_time": "2023-04-17T15:38:46.197686",
     "exception": false,
     "start_time": "2023-04-17T15:38:42.701178",
     "status": "completed"
    },
    "tags": []
   },
   "outputs": [],
   "source": [
    "# CNN for image\n",
    "class CNN(nn.Module):\n",
    "    def __init__(self):\n",
    "        super().__init__()\n",
    "        self.conv1 = nn.Conv2d(3, 32, 5)\n",
    "        self.conv2 = nn.Conv2d(32, 64, 5)\n",
    "        self.pool = nn.MaxPool2d(2, 2)\n",
    "        self.fc1 = nn.Linear(13056,3256)\n",
    "        self.fc2 = nn.Linear(3256,512)\n",
    "        self.fc3 = nn.Linear(512, 27)\n",
    "\n",
    "        # define proportion of neurons to dropout\n",
    "        self.pool_dropout = nn.Dropout(0.25)\n",
    "        self.layer_dropout = nn.Dropout(0.25)\n",
    "\n",
    "\n",
    "    def forward(self, x):\n",
    "        x = F.relu(self.conv1(x))\n",
    "        x = self.pool(x)\n",
    "        x = self.pool_dropout(x)\n",
    "\n",
    "        x = F.relu(self.conv2(x))\n",
    "        x = self.pool(x)\n",
    "        x = self.pool_dropout(x)\n",
    "\n",
    "        x = torch.flatten(x, 1) # flatten all dimensions except batch\n",
    "        x = F.relu(self.fc1(x))\n",
    "        x = self.layer_dropout(x)\n",
    "        x = F.relu(self.fc2(x))\n",
    "        x = self.layer_dropout(x)\n",
    "        x = F.log_softmax(self.fc3(x), dim=1)\n",
    "        return x\n",
    "\n",
    "CNN_model = CNN().to(device)\n",
    "CNN_optimizer = torch.optim.Adam(CNN_model.parameters(), lr=0.001)"
   ]
  },
  {
   "cell_type": "code",
   "execution_count": 10,
   "id": "23128e78",
   "metadata": {
    "execution": {
     "iopub.execute_input": "2023-04-17T15:38:46.215146Z",
     "iopub.status.busy": "2023-04-17T15:38:46.214036Z",
     "iopub.status.idle": "2023-04-17T15:38:46.224692Z",
     "shell.execute_reply": "2023-04-17T15:38:46.223580Z"
    },
    "papermill": {
     "duration": 0.021887,
     "end_time": "2023-04-17T15:38:46.227269",
     "exception": false,
     "start_time": "2023-04-17T15:38:46.205382",
     "status": "completed"
    },
    "tags": []
   },
   "outputs": [],
   "source": [
    "# DNN for categorical data\n",
    "\n",
    "class DNN(nn.Module):\n",
    "    def __init__(self):\n",
    "        super().__init__()\n",
    "        self.fc1 = nn.Linear(4, 32)\n",
    "        self.fc2 = nn.Linear(32, 64)\n",
    "        self.fc3 = nn.Linear(64, 27)\n",
    "        \n",
    "        # define proportion of neurons to dropout\n",
    "        self.layer_dropout = nn.Dropout(0.25)\n",
    "\n",
    "\n",
    "    def forward(self, x):\n",
    "        x = F.relu(self.fc1(x))\n",
    "        x = self.layer_dropout(x)\n",
    "        x = F.relu(self.fc2(x))\n",
    "        x = self.layer_dropout(x)\n",
    "        x = F.log_softmax(self.fc3(x), dim=1)\n",
    "        return x\n",
    "\n",
    "DNN_model = DNN().to(device)\n",
    "DNN_optimizer = torch.optim.Adam(DNN_model.parameters(), lr=0.001)"
   ]
  },
  {
   "cell_type": "code",
   "execution_count": 11,
   "id": "fdb77b1b",
   "metadata": {
    "execution": {
     "iopub.execute_input": "2023-04-17T15:38:46.243014Z",
     "iopub.status.busy": "2023-04-17T15:38:46.242718Z",
     "iopub.status.idle": "2023-04-17T15:38:46.255879Z",
     "shell.execute_reply": "2023-04-17T15:38:46.254824Z"
    },
    "papermill": {
     "duration": 0.023542,
     "end_time": "2023-04-17T15:38:46.258325",
     "exception": false,
     "start_time": "2023-04-17T15:38:46.234783",
     "status": "completed"
    },
    "tags": []
   },
   "outputs": [],
   "source": [
    "# Helper functions for text classification\n",
    "# Code snippet based on tutorial from PyTorch\n",
    "tokenizer = get_tokenizer('basic_english')\n",
    "regex = re.compile('[^a-zA-Z ]')\n",
    "\n",
    "def yield_tokens(data_iter):\n",
    "    for data, image, text, category in data_iter:\n",
    "        keywords = []\n",
    "        for t in text:\n",
    "            t = regex.sub('', t)   # remove non alphabet chars\n",
    "            t = re.sub(r\"(\\w)([A-Z])\", r\"\\1 \\2\", t) # add space before capital letters\n",
    "            t = ' '.join( [w for w in t.split() if len(w)>1] )   # remove single chars\n",
    "\n",
    "            tokens = word_tokenize(t)\n",
    "            tagged_tokens = nltk.pos_tag(tokens)\n",
    "\n",
    "            # Iterate over the tagged tokens and extract keywords\n",
    "            for token, tag in tagged_tokens:\n",
    "                if tag.startswith('NN'):\n",
    "                    # If the tag starts with NN (noun) add to list of keywords\n",
    "                    keywords.append(token.lower())\n",
    "        final_string = \" \".join(keywords)\n",
    "        yield tokenizer(final_string)\n",
    "\n",
    "def process_text(text):\n",
    "    text_list, offsets = [], [0]\n",
    "    for t in text: \n",
    "        t = regex.sub('', t)   # remove non alphabet chars\n",
    "        t = re.sub(r\"(\\w)([A-Z])\", r\"\\1 \\2\", t) # add space before capital letters\n",
    "        t = ' '.join( [w for w in t.split() if len(w)>1] )   # remove single chars\n",
    "        \n",
    "        tokens = word_tokenize(t)\n",
    "        tagged_tokens = nltk.pos_tag(tokens)\n",
    "        keywords = []\n",
    "        for token, tag in tagged_tokens:\n",
    "                if tag.startswith('NN'):\n",
    "                    # If the tag starts with NN (noun) add to list of keywords\n",
    "                    keywords.append(token.lower())\n",
    "        t = \" \".join(keywords)\n",
    "        processed_text = torch.tensor(text_pipeline(t), dtype=torch.int64)\n",
    "        text_list.append(processed_text)\n",
    "        offsets.append(processed_text.size(0))\n",
    "    offsets = torch.tensor(offsets[:-1]).cumsum(dim=0)\n",
    "    text_list = torch.cat(text_list)\n",
    "    return text_list.to(device), offsets.to(device)"
   ]
  },
  {
   "cell_type": "code",
   "execution_count": 12,
   "id": "17068137",
   "metadata": {
    "execution": {
     "iopub.execute_input": "2023-04-17T15:38:46.274017Z",
     "iopub.status.busy": "2023-04-17T15:38:46.273169Z",
     "iopub.status.idle": "2023-04-17T15:41:40.184971Z",
     "shell.execute_reply": "2023-04-17T15:41:40.183763Z"
    },
    "papermill": {
     "duration": 173.922503,
     "end_time": "2023-04-17T15:41:40.188036",
     "exception": false,
     "start_time": "2023-04-17T15:38:46.265533",
     "status": "completed"
    },
    "tags": []
   },
   "outputs": [],
   "source": [
    "# build vocab\n",
    "vocab = build_vocab_from_iterator(yield_tokens(train_loader), specials=[\"<unk>\"])\n",
    "vocab.set_default_index(vocab[\"<unk>\"])\n",
    "\n",
    "text_pipeline = lambda x: vocab(tokenizer(x))\n",
    "label_pipeline = lambda x: int(x) - 1"
   ]
  },
  {
   "cell_type": "code",
   "execution_count": 13,
   "id": "899c1d00",
   "metadata": {
    "execution": {
     "iopub.execute_input": "2023-04-17T15:41:40.205120Z",
     "iopub.status.busy": "2023-04-17T15:41:40.204134Z",
     "iopub.status.idle": "2023-04-17T15:41:40.220730Z",
     "shell.execute_reply": "2023-04-17T15:41:40.219779Z"
    },
    "papermill": {
     "duration": 0.026845,
     "end_time": "2023-04-17T15:41:40.222790",
     "exception": false,
     "start_time": "2023-04-17T15:41:40.195945",
     "status": "completed"
    },
    "tags": []
   },
   "outputs": [],
   "source": [
    "# Model for text\n",
    "# Code snippets based on tutorial from PyTorch\n",
    "class TextModel(nn.Module):\n",
    "    def __init__(self):\n",
    "        super(TextModel, self).__init__()\n",
    "        self.embedding = nn.EmbeddingBag(len(vocab), 64, sparse=False)\n",
    "        self.fc = nn.Linear(64, 27)\n",
    "        self.init_weights()\n",
    "\n",
    "    def init_weights(self):\n",
    "        initrange = 0.5\n",
    "        self.embedding.weight.data.uniform_(-initrange, initrange)\n",
    "        self.fc.weight.data.uniform_(-initrange, initrange)\n",
    "        self.fc.bias.data.zero_()\n",
    "\n",
    "    def forward(self, text, offsets):\n",
    "        embedded = self.embedding(text, offsets)\n",
    "        return self.fc(embedded)\n",
    "\n",
    "text_model = TextModel().to(device)\n",
    "text_optimizer = torch.optim.Adam(text_model.parameters(), lr=0.001)"
   ]
  },
  {
   "cell_type": "markdown",
   "id": "30e67bef",
   "metadata": {
    "papermill": {
     "duration": 0.006807,
     "end_time": "2023-04-17T15:41:40.236817",
     "exception": false,
     "start_time": "2023-04-17T15:41:40.230010",
     "status": "completed"
    },
    "tags": []
   },
   "source": [
    "# Train and Test Functions"
   ]
  },
  {
   "cell_type": "code",
   "execution_count": 14,
   "id": "6e3daf24",
   "metadata": {
    "execution": {
     "iopub.execute_input": "2023-04-17T15:41:40.252679Z",
     "iopub.status.busy": "2023-04-17T15:41:40.252385Z",
     "iopub.status.idle": "2023-04-17T15:41:40.257135Z",
     "shell.execute_reply": "2023-04-17T15:41:40.255842Z"
    },
    "papermill": {
     "duration": 0.015722,
     "end_time": "2023-04-17T15:41:40.259709",
     "exception": false,
     "start_time": "2023-04-17T15:41:40.243987",
     "status": "completed"
    },
    "tags": []
   },
   "outputs": [],
   "source": [
    "loss_fn = nn.CrossEntropyLoss()"
   ]
  },
  {
   "cell_type": "code",
   "execution_count": 15,
   "id": "679d4032",
   "metadata": {
    "execution": {
     "iopub.execute_input": "2023-04-17T15:41:40.274947Z",
     "iopub.status.busy": "2023-04-17T15:41:40.274679Z",
     "iopub.status.idle": "2023-04-17T15:41:40.285583Z",
     "shell.execute_reply": "2023-04-17T15:41:40.284256Z"
    },
    "papermill": {
     "duration": 0.020834,
     "end_time": "2023-04-17T15:41:40.287632",
     "exception": false,
     "start_time": "2023-04-17T15:41:40.266798",
     "status": "completed"
    },
    "tags": []
   },
   "outputs": [],
   "source": [
    "# Train function\n",
    "def train(dataloader, model, loss_fn):\n",
    "    size = len(dataloader.dataset)\n",
    "    num_batches = len(dataloader)\n",
    "    train_loss, correct = 0, 0\n",
    "    model.train()\n",
    "    \n",
    "    for batch, (categorical_data, images, text, categories) in enumerate(dataloader):\n",
    "        categorical_data, images, text, categories = categorical_data.to(device), images.to(device), text, categories.to(device)\n",
    "        \n",
    "        # CNN \n",
    "        if (type(model).__name__ == 'CNN'):\n",
    "            CNN_optimizer.zero_grad()\n",
    "            pred = CNN_model(images)\n",
    "            loss = loss_fn(pred, categories)\n",
    "            loss.backward()\n",
    "            CNN_optimizer.step()\n",
    "            _, pred = torch.max(pred, 1)\n",
    "        \n",
    "        # DNN prediction\n",
    "        elif (type(model).__name__ == 'DNN'):\n",
    "            DNN_optimizer.zero_grad()\n",
    "            pred = DNN_model(categorical_data.float())\n",
    "            loss = loss_fn(pred, categories)\n",
    "            loss.backward()\n",
    "            DNN_optimizer.step()\n",
    "            _, pred = torch.max(pred, 1)\n",
    "        \n",
    "        # Text\n",
    "        else:\n",
    "            text_optimizer.zero_grad()\n",
    "            text, offsets = process_text(text)\n",
    "            pred = text_model(text, offsets)\n",
    "            loss = loss_fn(pred, categories)\n",
    "            loss.backward()\n",
    "            text_optimizer.step()\n",
    "            _, pred = torch.max(pred, 1)\n",
    "    \n",
    "        train_loss += loss.item()\n",
    "        correct += sum(x == y for x, y in zip(pred, categories))\n",
    "\n",
    "    average_train_loss = train_loss / num_batches\n",
    "    accuracy = correct / size\n",
    "    return accuracy, average_train_loss"
   ]
  },
  {
   "cell_type": "code",
   "execution_count": 16,
   "id": "522d48d6",
   "metadata": {
    "execution": {
     "iopub.execute_input": "2023-04-17T15:41:40.302739Z",
     "iopub.status.busy": "2023-04-17T15:41:40.302472Z",
     "iopub.status.idle": "2023-04-17T15:41:40.308542Z",
     "shell.execute_reply": "2023-04-17T15:41:40.307470Z"
    },
    "papermill": {
     "duration": 0.016282,
     "end_time": "2023-04-17T15:41:40.310872",
     "exception": false,
     "start_time": "2023-04-17T15:41:40.294590",
     "status": "completed"
    },
    "tags": []
   },
   "outputs": [],
   "source": [
    "# voting\n",
    "def vote(image_pred, category_pred, text_pred):\n",
    "    predictions = []\n",
    "    for (i, c, t) in zip(image_pred, category_pred, text_pred):\n",
    "        votes = set()\n",
    "        for vote in [i, c, t]:\n",
    "            if vote in votes:\n",
    "                predictions.append(vote)\n",
    "                break\n",
    "            votes.add(vote.item())\n",
    "        predictions.append(t.item())        \n",
    "    return predictions"
   ]
  },
  {
   "cell_type": "code",
   "execution_count": 17,
   "id": "07a0757c",
   "metadata": {
    "execution": {
     "iopub.execute_input": "2023-04-17T15:41:40.326180Z",
     "iopub.status.busy": "2023-04-17T15:41:40.325895Z",
     "iopub.status.idle": "2023-04-17T15:41:40.335586Z",
     "shell.execute_reply": "2023-04-17T15:41:40.334523Z"
    },
    "papermill": {
     "duration": 0.020378,
     "end_time": "2023-04-17T15:41:40.337992",
     "exception": false,
     "start_time": "2023-04-17T15:41:40.317614",
     "status": "completed"
    },
    "tags": []
   },
   "outputs": [],
   "source": [
    "# Test\n",
    "def test(dataloader, loss_fn):\n",
    "    size = len(dataloader.dataset)\n",
    "    num_batches = len(dataloader)\n",
    "    \n",
    "    CNN_model.eval()\n",
    "    DNN_model.eval()\n",
    "    text_model.eval()\n",
    "    \n",
    "    test_loss, correct = 0, 0\n",
    "    \n",
    "    with torch.no_grad():\n",
    "        for batch, (categorical_data, images, text, categories) in enumerate(dataloader):\n",
    "                categorical_data, images, text, categories = categorical_data.to(device), images.to(device), text, categories.to(device)\n",
    "\n",
    "                image_pred = CNN_model(images)\n",
    "                _, image_pred = torch.max(image_pred, 1)\n",
    "\n",
    "                category_pred = DNN_model(categorical_data.float())\n",
    "                _, category_pred = torch.max(category_pred, 1)\n",
    "\n",
    "                text, offsets = process_text(text)\n",
    "                text_pred = text_model(text, offsets)\n",
    "                _, text_pred = torch.max(text_pred, 1)\n",
    "\n",
    "                final_pred = vote(image_pred, category_pred, text_pred)\n",
    "                \n",
    "                test_loss += loss_fn(torch.Tensor(final_pred).to(device), categories.float().to(device)).item()\n",
    "                correct += sum(x == y for x, y in zip(final_pred, categories))\n",
    "                \n",
    "    average_test_loss = test_loss / num_batches\n",
    "    accuracy = correct / size\n",
    "    return accuracy, average_test_loss"
   ]
  },
  {
   "cell_type": "code",
   "execution_count": 18,
   "id": "0587ed88",
   "metadata": {
    "execution": {
     "iopub.execute_input": "2023-04-17T15:41:40.353927Z",
     "iopub.status.busy": "2023-04-17T15:41:40.353095Z",
     "iopub.status.idle": "2023-04-17T15:41:40.361092Z",
     "shell.execute_reply": "2023-04-17T15:41:40.360041Z"
    },
    "papermill": {
     "duration": 0.018083,
     "end_time": "2023-04-17T15:41:40.363378",
     "exception": false,
     "start_time": "2023-04-17T15:41:40.345295",
     "status": "completed"
    },
    "tags": []
   },
   "outputs": [],
   "source": [
    "BATCH_SIZE = 64\n",
    "\n",
    "def train_all(epochs=7):\n",
    "  for t in tqdm(range(epochs)):\n",
    "      print(f\"Epoch {t+1}:\")\n",
    "    \n",
    "      # produce training set and validation set\n",
    "      train_size = int(len(train_set) * 0.9)\n",
    "      test_size = int(len(train_set) - train_size)\n",
    "      split_train, split_valid = random_split(train_set, [train_size, test_size])\n",
    "      train_loader = DataLoader(split_train, batch_size=BATCH_SIZE, shuffle=True)\n",
    "      valid_loader = DataLoader(split_valid, batch_size=BATCH_SIZE, shuffle=True)\n",
    "      \n",
    "      # train\n",
    "      text_train_accuracy, text_average_train_loss = train(train_loader, text_model, loss_fn)\n",
    "      CNN_train_accuracy, CNN_average_train_loss = train(train_loader, CNN_model, loss_fn)\n",
    "      DNN_train_accuracy, DNN_average_train_loss = train(train_loader, DNN_model, loss_fn)\n",
    "      print(f\"\\tAverage train accuracy: {100*CNN_train_accuracy:0.2f}% {100*DNN_train_accuracy:0.2f}% {100*text_train_accuracy:0.2f}%\\t Avg train loss: {CNN_average_train_loss:>4f} {DNN_average_train_loss:>4f} {text_average_train_loss:>4f}\\t\")\n",
    "    \n",
    "      # test\n",
    "      test_accuracy, test_loss = test(valid_loader, loss_fn)\n",
    "      print(f\"\\tTest accuracy: {100*test_accuracy:0.2f}% \\t Test loss: {test_loss:>4f}\")\n",
    "\n",
    "  return "
   ]
  },
  {
   "cell_type": "markdown",
   "id": "99506101",
   "metadata": {
    "papermill": {
     "duration": 0.00674,
     "end_time": "2023-04-17T15:41:40.377049",
     "exception": false,
     "start_time": "2023-04-17T15:41:40.370309",
     "status": "completed"
    },
    "tags": []
   },
   "source": [
    "# Training"
   ]
  },
  {
   "cell_type": "code",
   "execution_count": 19,
   "id": "88bbbdaa",
   "metadata": {
    "execution": {
     "iopub.execute_input": "2023-04-17T15:41:40.392924Z",
     "iopub.status.busy": "2023-04-17T15:41:40.392229Z",
     "iopub.status.idle": "2023-04-17T16:02:45.590187Z",
     "shell.execute_reply": "2023-04-17T16:02:45.589102Z"
    },
    "papermill": {
     "duration": 1265.208351,
     "end_time": "2023-04-17T16:02:45.592533",
     "exception": false,
     "start_time": "2023-04-17T15:41:40.384182",
     "status": "completed"
    },
    "tags": []
   },
   "outputs": [
    {
     "name": "stdout",
     "output_type": "stream",
     "text": [
      "Training started\n"
     ]
    },
    {
     "name": "stderr",
     "output_type": "stream",
     "text": [
      "  0%|          | 0/7 [00:00<?, ?it/s]"
     ]
    },
    {
     "name": "stdout",
     "output_type": "stream",
     "text": [
      "Epoch 1:\n",
      "\tAverage train accuracy: 55.59% 33.74% 42.82%\t Avg train loss: 1.754116 2.531840 2.379717\t\n"
     ]
    },
    {
     "name": "stderr",
     "output_type": "stream",
     "text": [
      " 14%|█▍        | 1/7 [03:08<18:51, 188.63s/it]"
     ]
    },
    {
     "name": "stdout",
     "output_type": "stream",
     "text": [
      "\tTest accuracy: 53.86% \t Test loss: 6149.220402\n",
      "Epoch 2:\n",
      "\tAverage train accuracy: 73.07% 36.65% 63.77%\t Avg train loss: 1.167750 2.311568 1.507050\t\n"
     ]
    },
    {
     "name": "stderr",
     "output_type": "stream",
     "text": [
      " 29%|██▊       | 2/7 [06:07<15:14, 182.81s/it]"
     ]
    },
    {
     "name": "stdout",
     "output_type": "stream",
     "text": [
      "\tTest accuracy: 71.15% \t Test loss: 7188.354392\n",
      "Epoch 3:\n",
      "\tAverage train accuracy: 76.12% 38.68% 74.43%\t Avg train loss: 1.055784 2.200405 1.163259\t\n"
     ]
    },
    {
     "name": "stderr",
     "output_type": "stream",
     "text": [
      " 43%|████▎     | 3/7 [09:07<12:05, 181.47s/it]"
     ]
    },
    {
     "name": "stdout",
     "output_type": "stream",
     "text": [
      "\tTest accuracy: 76.19% \t Test loss: 7418.795956\n",
      "Epoch 4:\n",
      "\tAverage train accuracy: 77.75% 39.16% 78.65%\t Avg train loss: 1.000922 2.138766 0.988141\t\n"
     ]
    },
    {
     "name": "stderr",
     "output_type": "stream",
     "text": [
      " 57%|█████▋    | 4/7 [12:06<09:01, 180.47s/it]"
     ]
    },
    {
     "name": "stdout",
     "output_type": "stream",
     "text": [
      "\tTest accuracy: 78.46% \t Test loss: 7475.232235\n",
      "Epoch 5:\n",
      "\tAverage train accuracy: 79.07% 40.26% 80.80%\t Avg train loss: 0.937881 2.064839 0.894594\t\n"
     ]
    },
    {
     "name": "stderr",
     "output_type": "stream",
     "text": [
      " 71%|███████▏  | 5/7 [15:04<05:59, 179.74s/it]"
     ]
    },
    {
     "name": "stdout",
     "output_type": "stream",
     "text": [
      "\tTest accuracy: 81.14% \t Test loss: 7718.533936\n",
      "Epoch 6:\n",
      "\tAverage train accuracy: 79.86% 41.29% 82.07%\t Avg train loss: 0.899268 2.013670 0.826320\t\n"
     ]
    },
    {
     "name": "stderr",
     "output_type": "stream",
     "text": [
      " 86%|████████▌ | 6/7 [18:04<02:59, 179.92s/it]"
     ]
    },
    {
     "name": "stdout",
     "output_type": "stream",
     "text": [
      "\tTest accuracy: 83.13% \t Test loss: 7655.239488\n",
      "Epoch 7:\n",
      "\tAverage train accuracy: 80.67% 42.03% 83.55%\t Avg train loss: 0.853877 1.966326 0.758858\t\n"
     ]
    },
    {
     "name": "stderr",
     "output_type": "stream",
     "text": [
      "100%|██████████| 7/7 [21:05<00:00, 180.74s/it]"
     ]
    },
    {
     "name": "stdout",
     "output_type": "stream",
     "text": [
      "\tTest accuracy: 82.02% \t Test loss: 7612.355368\n",
      "Training finished\n"
     ]
    },
    {
     "name": "stderr",
     "output_type": "stream",
     "text": [
      "\n"
     ]
    }
   ],
   "source": [
    "print('Training started')\n",
    "train_all()\n",
    "print('Training finished')"
   ]
  },
  {
   "cell_type": "code",
   "execution_count": 20,
   "id": "b4d2ea60",
   "metadata": {
    "execution": {
     "iopub.execute_input": "2023-04-17T16:02:45.617968Z",
     "iopub.status.busy": "2023-04-17T16:02:45.617024Z",
     "iopub.status.idle": "2023-04-17T16:02:45.628927Z",
     "shell.execute_reply": "2023-04-17T16:02:45.627899Z"
    },
    "papermill": {
     "duration": 0.030652,
     "end_time": "2023-04-17T16:02:45.631789",
     "exception": false,
     "start_time": "2023-04-17T16:02:45.601137",
     "status": "completed"
    },
    "tags": []
   },
   "outputs": [],
   "source": [
    "# produce training set and validation set\n",
    "train_size = int(len(train_set) * 0.9)\n",
    "test_size = int(len(train_set) - train_size)\n",
    "split_train, split_valid = random_split(train_set, [train_size, test_size])\n",
    "train_loader = DataLoader(split_train, batch_size=64, shuffle=True)\n",
    "valid_loader = DataLoader(split_valid, batch_size=64, shuffle=True)"
   ]
  },
  {
   "cell_type": "code",
   "execution_count": 21,
   "id": "f94b1124",
   "metadata": {
    "execution": {
     "iopub.execute_input": "2023-04-17T16:02:45.668679Z",
     "iopub.status.busy": "2023-04-17T16:02:45.668331Z",
     "iopub.status.idle": "2023-04-17T16:02:46.160648Z",
     "shell.execute_reply": "2023-04-17T16:02:46.159338Z"
    },
    "papermill": {
     "duration": 0.517309,
     "end_time": "2023-04-17T16:02:46.163609",
     "exception": false,
     "start_time": "2023-04-17T16:02:45.646300",
     "status": "completed"
    },
    "tags": []
   },
   "outputs": [],
   "source": [
    "torch.save(CNN_model, 'CNN_model.pt')\n",
    "torch.save(DNN_model, 'DNN_model.pt')\n",
    "torch.save(text_model, 'text_model.pt')"
   ]
  },
  {
   "cell_type": "markdown",
   "id": "a5e22732",
   "metadata": {
    "papermill": {
     "duration": 0.012379,
     "end_time": "2023-04-17T16:02:46.189833",
     "exception": false,
     "start_time": "2023-04-17T16:02:46.177454",
     "status": "completed"
    },
    "tags": []
   },
   "source": [
    "# Make predictions for test and submit"
   ]
  },
  {
   "cell_type": "code",
   "execution_count": 22,
   "id": "bc386d42",
   "metadata": {
    "execution": {
     "iopub.execute_input": "2023-04-17T16:02:46.216575Z",
     "iopub.status.busy": "2023-04-17T16:02:46.216123Z",
     "iopub.status.idle": "2023-04-17T16:02:46.398276Z",
     "shell.execute_reply": "2023-04-17T16:02:46.397236Z"
    },
    "papermill": {
     "duration": 0.199048,
     "end_time": "2023-04-17T16:02:46.401588",
     "exception": false,
     "start_time": "2023-04-17T16:02:46.202540",
     "status": "completed"
    },
    "tags": []
   },
   "outputs": [],
   "source": [
    "CNN_model = torch.load('CNN_model.pt')\n",
    "DNN_model = torch.load('DNN_model.pt')\n",
    "text_model = torch.load('text_model.pt')"
   ]
  },
  {
   "cell_type": "code",
   "execution_count": 23,
   "id": "72dcc23a",
   "metadata": {
    "execution": {
     "iopub.execute_input": "2023-04-17T16:02:46.429805Z",
     "iopub.status.busy": "2023-04-17T16:02:46.429461Z",
     "iopub.status.idle": "2023-04-17T16:02:46.441951Z",
     "shell.execute_reply": "2023-04-17T16:02:46.441091Z"
    },
    "papermill": {
     "duration": 0.029313,
     "end_time": "2023-04-17T16:02:46.444531",
     "exception": false,
     "start_time": "2023-04-17T16:02:46.415218",
     "status": "completed"
    },
    "tags": []
   },
   "outputs": [],
   "source": [
    "# Predict\n",
    "def predict(dataloader, loss_fn):\n",
    "    size = len(dataloader.dataset)\n",
    "    num_batches = len(dataloader)\n",
    "    \n",
    "    CNN_model.eval()\n",
    "    DNN_model.eval()\n",
    "    text_model.eval()\n",
    "    \n",
    "    outputs = []\n",
    "    \n",
    "    with torch.no_grad():\n",
    "        for batch, (categorical_data, images, text, categories) in enumerate(dataloader):\n",
    "            categorical_data, images, text, categories = categorical_data.to(device), images.to(device), text, categories.to(device)\n",
    "            \n",
    "            image_pred = CNN_model(images)\n",
    "            _, image_pred = torch.max(image_pred, 1)\n",
    "            \n",
    "            category_pred = DNN_model(categorical_data.float())\n",
    "            _, category_pred = torch.max(category_pred, 1)\n",
    "            \n",
    "            text, offsets = process_text(text)\n",
    "            text_pred = text_model(text, offsets)\n",
    "            _, text_pred = torch.max(text_pred, 1)\n",
    "            \n",
    "            final_pred = vote(image_pred, category_pred, text_pred)\n",
    "            \n",
    "            outputs.append(final_pred[0])\n",
    "    \n",
    "    return torch.Tensor(outputs).to(device)"
   ]
  },
  {
   "cell_type": "code",
   "execution_count": 24,
   "id": "a6092265",
   "metadata": {
    "execution": {
     "iopub.execute_input": "2023-04-17T16:02:46.471904Z",
     "iopub.status.busy": "2023-04-17T16:02:46.471577Z",
     "iopub.status.idle": "2023-04-17T16:06:28.296003Z",
     "shell.execute_reply": "2023-04-17T16:06:28.294886Z"
    },
    "papermill": {
     "duration": 221.841291,
     "end_time": "2023-04-17T16:06:28.298780",
     "exception": false,
     "start_time": "2023-04-17T16:02:46.457489",
     "status": "completed"
    },
    "tags": []
   },
   "outputs": [],
   "source": [
    "predictions = predict(test_loader, loss_fn)\n",
    "\n",
    "processed_predictions = predictions.cpu().numpy().astype(int)\n",
    "mapped_predictions = [category_map[y] for y in processed_predictions]"
   ]
  },
  {
   "cell_type": "code",
   "execution_count": 25,
   "id": "6bb63bee",
   "metadata": {
    "execution": {
     "iopub.execute_input": "2023-04-17T16:06:28.317994Z",
     "iopub.status.busy": "2023-04-17T16:06:28.317658Z",
     "iopub.status.idle": "2023-04-17T16:06:28.348185Z",
     "shell.execute_reply": "2023-04-17T16:06:28.347140Z"
    },
    "papermill": {
     "duration": 0.042829,
     "end_time": "2023-04-17T16:06:28.350528",
     "exception": false,
     "start_time": "2023-04-17T16:06:28.307699",
     "status": "completed"
    },
    "tags": []
   },
   "outputs": [],
   "source": [
    "submission = pd.DataFrame({'id': test_df.id, 'category': mapped_predictions})\n",
    "submission.to_csv('submission.csv', index=False)"
   ]
  }
 ],
 "metadata": {
  "kernelspec": {
   "display_name": "Python 3",
   "language": "python",
   "name": "python3"
  },
  "language_info": {
   "codemirror_mode": {
    "name": "ipython",
    "version": 3
   },
   "file_extension": ".py",
   "mimetype": "text/x-python",
   "name": "python",
   "nbconvert_exporter": "python",
   "pygments_lexer": "ipython3",
   "version": "3.7.12"
  },
  "papermill": {
   "default_parameters": {},
   "duration": 1684.747887,
   "end_time": "2023-04-17T16:06:31.254722",
   "environment_variables": {},
   "exception": null,
   "input_path": "__notebook__.ipynb",
   "output_path": "__notebook__.ipynb",
   "parameters": {},
   "start_time": "2023-04-17T15:38:26.506835",
   "version": "2.4.0"
  }
 },
 "nbformat": 4,
 "nbformat_minor": 5
}
